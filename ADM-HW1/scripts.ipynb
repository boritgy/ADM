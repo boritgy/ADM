{
 "cells": [
  {
   "cell_type": "markdown",
   "id": "94db30c0",
   "metadata": {},
   "source": [
    "# Problem 1"
   ]
  },
  {
   "cell_type": "markdown",
   "id": "3b1b0924",
   "metadata": {},
   "source": [
    "### Say \"Hello, World!\" With Python"
   ]
  },
  {
   "cell_type": "code",
   "execution_count": null,
   "id": "8b8f0d5d",
   "metadata": {},
   "outputs": [],
   "source": [
    "if __name__ == '__main__':\n",
    "    print(\"Hello, World!\")"
   ]
  },
  {
   "cell_type": "markdown",
   "id": "d7d9b853",
   "metadata": {},
   "source": [
    "### Python If-Else"
   ]
  },
  {
   "cell_type": "code",
   "execution_count": null,
   "id": "3b080b59",
   "metadata": {},
   "outputs": [],
   "source": [
    "#!/bin/python3\n",
    "\n",
    "import math\n",
    "import os\n",
    "import random\n",
    "import re\n",
    "import sys\n",
    "\n",
    "\n",
    "\n",
    "if __name__ == '__main__':\n",
    "    n = int(input().strip())\n",
    "    if (n%2==1):\n",
    "        print('Weird')\n",
    "    else if (n >= 2 and n <=5):\n",
    "        print('Not Weird')\n",
    "    else if (n >= 6 and n <= 20):\n",
    "        print('Weird')\n",
    "    else if (n > 20):\n",
    "        print('Not Weird')"
   ]
  },
  {
   "cell_type": "markdown",
   "id": "d164bbc8",
   "metadata": {},
   "source": [
    "### Arithmetic Operators"
   ]
  },
  {
   "cell_type": "code",
   "execution_count": null,
   "id": "9e50ff69",
   "metadata": {},
   "outputs": [],
   "source": [
    "if __name__ == '__main__':\n",
    "    a = int(input())\n",
    "    b = int(input())\n",
    "    print(a+b)\n",
    "    print(a-b)\n",
    "    print(a*b)"
   ]
  },
  {
   "cell_type": "markdown",
   "id": "6c0f7c5f",
   "metadata": {},
   "source": [
    "### Python: Division"
   ]
  },
  {
   "cell_type": "code",
   "execution_count": null,
   "id": "4fb4a48b",
   "metadata": {},
   "outputs": [],
   "source": [
    "if __name__ == '__main__':\n",
    "    a = int(input())\n",
    "    b = int(input())\n",
    "    print(a//b)\n",
    "    print(a/b)"
   ]
  },
  {
   "cell_type": "markdown",
   "id": "31fb3e78",
   "metadata": {},
   "source": [
    "### Loops"
   ]
  },
  {
   "cell_type": "code",
   "execution_count": null,
   "id": "b08f74da",
   "metadata": {},
   "outputs": [],
   "source": [
    "if __name__ == '__main__':\n",
    "    n = int(input())\n",
    "    for i in range(n):\n",
    "        print(i*i)"
   ]
  },
  {
   "cell_type": "markdown",
   "id": "5d421bcc",
   "metadata": {},
   "source": [
    "### Write a function"
   ]
  },
  {
   "cell_type": "code",
   "execution_count": null,
   "id": "eeccf875",
   "metadata": {},
   "outputs": [],
   "source": [
    "def is_leap(year):\n",
    "    leap = False\n",
    "    \n",
    "    # Write your logic here\n",
    "    if (year%4==0 and year%100!=0):\n",
    "        leap = True\n",
    "    elif(year%4==0 and year%400==0):\n",
    "        leap = True    \n",
    "    \n",
    "    return leap"
   ]
  },
  {
   "cell_type": "markdown",
   "id": "188bcc70",
   "metadata": {},
   "source": [
    "### Print Function"
   ]
  },
  {
   "cell_type": "code",
   "execution_count": null,
   "id": "5a1801cd",
   "metadata": {},
   "outputs": [],
   "source": [
    "if __name__ == '__main__':\n",
    "    n = int(input())\n",
    "    s = ''\n",
    "    for i in range(1, n+1):\n",
    "        s = s + str(i)\n",
    "    \n",
    "    print(s)"
   ]
  },
  {
   "cell_type": "markdown",
   "id": "381e6b0b",
   "metadata": {},
   "source": [
    "### Lists"
   ]
  },
  {
   "cell_type": "code",
   "execution_count": null,
   "id": "0ac740c9",
   "metadata": {},
   "outputs": [],
   "source": [
    "if __name__ == '__main__':\n",
    "    N = int(input())\n",
    "    l = []\n",
    "    \n",
    "    for i in range(N):\n",
    "        n = input().split(\" \")\n",
    "        if n[0] == \"append\":\n",
    "            l.append(int(n[1]))\n",
    "        elif n[0] == \"remove\":\n",
    "            l.remove(int(n[1]))\n",
    "        elif n[0] == \"print\":\n",
    "            print(l)\n",
    "        elif n[0] == \"insert\":\n",
    "            l.insert(int(n[1]), int(n[2]))\n",
    "        elif n[0] == \"sort\":\n",
    "            l.sort()\n",
    "        elif n[0] == \"pop\":\n",
    "            l.pop()\n",
    "        elif n[0] == \"reverse\":\n",
    "            l.reverse()\n",
    "            "
   ]
  },
  {
   "cell_type": "markdown",
   "id": "d5d929dc",
   "metadata": {},
   "source": [
    "### Tuples"
   ]
  },
  {
   "cell_type": "code",
   "execution_count": null,
   "id": "8c4e6f19",
   "metadata": {},
   "outputs": [],
   "source": [
    "if __name__ == '__main__':\n",
    "    n = int(input())\n",
    "    integer_list = map(int, input().split())\n",
    "    t = tuple(integer_list)\n",
    "    print(hash(t))"
   ]
  },
  {
   "cell_type": "markdown",
   "id": "09047243",
   "metadata": {},
   "source": [
    "### Nested Lists"
   ]
  },
  {
   "cell_type": "code",
   "execution_count": null,
   "id": "ec674bc6",
   "metadata": {},
   "outputs": [],
   "source": [
    "def findscore(e):\n",
    "    return e[1]\n",
    "def findname(e):\n",
    "    return e[0]\n",
    "\n",
    "if __name__ == '__main__':\n",
    "    l = []\n",
    "    for _ in range(int(input())):\n",
    "        name = input()\n",
    "        score = float(input())\n",
    "        l.append([name, score])\n",
    "   \n",
    "    l.sort(key=findscore)\n",
    "    solution = l[1][1]\n",
    "    if (l[1][1] == l[0][1]):\n",
    "        i = 2\n",
    "        while ((l[1][1]) == l[i][1]):\n",
    "            i = i + 1\n",
    "        solution = l[i][1]\n",
    "    \n",
    "    solution_list = [x[0] for x in l if x[1] == solution]\n",
    "    solution_list.sort()\n",
    "    for s in solution_list:\n",
    "        print(s)"
   ]
  },
  {
   "cell_type": "markdown",
   "id": "b7966139",
   "metadata": {},
   "source": [
    "### List Comprehensions"
   ]
  },
  {
   "cell_type": "code",
   "execution_count": null,
   "id": "4bb60648",
   "metadata": {},
   "outputs": [],
   "source": [
    "if __name__ == '__main__':\n",
    "    x = int(input())\n",
    "    y = int(input())\n",
    "    z = int(input())\n",
    "    n = int(input())\n",
    "    \n",
    "    \n",
    "    \n",
    "    l = [[i,j,k] for i in range(x+1) for j in range(y+1) for k in range(z+1) if i+j+k != n]\n",
    "    print(l)"
   ]
  },
  {
   "cell_type": "markdown",
   "id": "a74fb080",
   "metadata": {},
   "source": [
    "### Find the Runner-Up Score!"
   ]
  },
  {
   "cell_type": "code",
   "execution_count": null,
   "id": "fd511fcd",
   "metadata": {},
   "outputs": [],
   "source": [
    "if __name__ == '__main__':\n",
    "    n = int(input())\n",
    "    arr = list(map(int, input().split()))\n",
    "    \n",
    "    arr.sort()\n",
    "    arr.reverse()\n",
    "    \n",
    "    runnerup = arr[1]\n",
    "    \n",
    "    i = 2\n",
    "    while(runnerup == arr[0]):\n",
    "        runnerup = arr[i]\n",
    "        i = i + 1\n",
    "    \n",
    "    print(runnerup)"
   ]
  },
  {
   "cell_type": "markdown",
   "id": "d5a70bd6",
   "metadata": {},
   "source": [
    "### Finding the percentage"
   ]
  },
  {
   "cell_type": "code",
   "execution_count": null,
   "id": "c87ba2e1",
   "metadata": {},
   "outputs": [],
   "source": [
    "if __name__ == '__main__':\n",
    "    n = int(input())\n",
    "    student_marks = {}\n",
    "    for _ in range(n):\n",
    "        name, *line = input().split()\n",
    "        scores = list(map(float, line))\n",
    "        student_marks[name] = scores\n",
    "    query_name = input()\n",
    "    \n",
    "    grades = student_marks[query_name]\n",
    "    average = sum(grades)/len(grades)\n",
    "    \n",
    "    print(\"{:.2f}\".format(average))"
   ]
  },
  {
   "cell_type": "markdown",
   "id": "8bc47452",
   "metadata": {},
   "source": [
    "### What's Your Name?"
   ]
  },
  {
   "cell_type": "code",
   "execution_count": null,
   "id": "9e0db81e",
   "metadata": {},
   "outputs": [],
   "source": [
    "def print_full_name(first, last):\n",
    "    # Write your code here\n",
    "    print(\"Hello \"+first+ \" \" + last + \"! You just delved into python.\")"
   ]
  },
  {
   "cell_type": "markdown",
   "id": "9c677ee6",
   "metadata": {},
   "source": [
    "### String Split and Join"
   ]
  },
  {
   "cell_type": "code",
   "execution_count": null,
   "id": "83b05944",
   "metadata": {},
   "outputs": [],
   "source": [
    "def split_and_join(line):\n",
    "    # write your code here\n",
    "    split = line.split(\" \")\n",
    "    joined = \"-\".join(split)\n",
    "    return joined\n",
    "\n",
    "if __name__ == '__main__':\n",
    "    line = input()\n",
    "    result = split_and_join(line)\n",
    "    print(result)"
   ]
  },
  {
   "cell_type": "markdown",
   "id": "40107330",
   "metadata": {},
   "source": [
    "### sWAP cASE"
   ]
  },
  {
   "cell_type": "code",
   "execution_count": null,
   "id": "86e5572a",
   "metadata": {},
   "outputs": [],
   "source": [
    "def swap_case(s):\n",
    "    new_string = \"\"\n",
    "    for letter in s:\n",
    "        if letter.islower():\n",
    "            new_string = new_string + letter.upper()\n",
    "        else:\n",
    "            new_string = new_string + letter.lower()\n",
    "    return new_string"
   ]
  },
  {
   "cell_type": "markdown",
   "id": "90b0de5a",
   "metadata": {},
   "source": [
    "### Mutations"
   ]
  },
  {
   "cell_type": "code",
   "execution_count": null,
   "id": "affccd33",
   "metadata": {},
   "outputs": [],
   "source": [
    "def mutate_string(string, position, character):\n",
    "    new_string = string[:position] + character + string[position+1:] \n",
    "    return new_string"
   ]
  },
  {
   "cell_type": "markdown",
   "id": "8ba097fe",
   "metadata": {},
   "source": [
    "### Find a string"
   ]
  },
  {
   "cell_type": "code",
   "execution_count": null,
   "id": "7bfe66d1",
   "metadata": {},
   "outputs": [],
   "source": [
    "def count_substring(string, sub_string):\n",
    "    h = len(sub_string)\n",
    "    n = 0\n",
    "    for i in range(len(string)):\n",
    "        if (string[i:h] == sub_string):\n",
    "            n = n + 1\n",
    "        h = h + 1\n",
    "    return n"
   ]
  },
  {
   "cell_type": "markdown",
   "id": "8aa827ab",
   "metadata": {},
   "source": [
    "### String Validators"
   ]
  },
  {
   "cell_type": "code",
   "execution_count": null,
   "id": "c02e8aa6",
   "metadata": {},
   "outputs": [],
   "source": [
    "if __name__ == '__main__':\n",
    "    s = input()\n",
    "    \n",
    "    alnum = False\n",
    "    for c in s:\n",
    "        if (c.isalnum()):\n",
    "            alnum = True\n",
    "            break\n",
    "    print(alnum)\n",
    "    \n",
    "    alpha = False\n",
    "    for c in s:\n",
    "        if (c.isalpha()):\n",
    "            alpha = True\n",
    "            break\n",
    "    print(alpha)\n",
    "    \n",
    "    digit = False\n",
    "    for c in s:\n",
    "        if (c.isdigit()):\n",
    "            digit = True\n",
    "            break\n",
    "    print(digit)\n",
    "    \n",
    "    low = False\n",
    "    for c in s:\n",
    "        if (c.islower()):\n",
    "            low = True\n",
    "            break\n",
    "    print(low)\n",
    "    \n",
    "    up = False\n",
    "    for c in s:\n",
    "        if (c.isupper()):\n",
    "            up = True\n",
    "            break\n",
    "    print(up)"
   ]
  },
  {
   "cell_type": "markdown",
   "id": "281e787b",
   "metadata": {},
   "source": [
    "### Text Alignment"
   ]
  },
  {
   "cell_type": "markdown",
   "id": "6a914283",
   "metadata": {},
   "source": [
    "### Capitalize!"
   ]
  },
  {
   "cell_type": "code",
   "execution_count": null,
   "id": "e352a5e6",
   "metadata": {},
   "outputs": [],
   "source": []
  },
  {
   "cell_type": "code",
   "execution_count": null,
   "id": "eac6062b",
   "metadata": {},
   "outputs": [],
   "source": [
    "# Complete the solve function below.\n",
    "def solve(s):\n",
    "    a = s.split(\" \")\n",
    "    string = \"\"\n",
    "    for w in a:\n",
    "        if len(w) > 0:\n",
    "            w = w[0].upper() + w[1:]\n",
    "        string = string + \" \" + w\n",
    "    return string.strip()"
   ]
  },
  {
   "cell_type": "markdown",
   "id": "dd41f562",
   "metadata": {},
   "source": [
    "### The Minion Game"
   ]
  },
  {
   "cell_type": "code",
   "execution_count": null,
   "id": "dff5e20f",
   "metadata": {},
   "outputs": [],
   "source": [
    "add = lambda x: 1 if x == 0 else x + add(x-1)\n",
    "\n",
    "def minion_game(string):\n",
    "    # your code goes here\n",
    "    vowels = ['A', 'E', 'I', 'O', 'U']\n",
    "    consonants = ['B', 'C', 'D', 'F', 'G', 'H', 'J', 'K', 'L', 'M', 'N', 'P', 'Q', 'R', 'S', 'T', 'V', 'W', 'X', 'Y', 'Z']\n",
    "    \n",
    "    kevin = 0\n",
    "    stuart = 0\n",
    "    \n",
    "    for i in range(len(string)):\n",
    "        j = len(string)-i\n",
    "        if string[i] in vowels:\n",
    "            kevin = kevin + j\n",
    "        else:\n",
    "            stuart = stuart + j          \n",
    "                    \n",
    "    if (kevin > stuart):\n",
    "        print(\"Kevin \" + str(kevin))\n",
    "    elif (stuart > kevin):\n",
    "        print(\"Stuart \" + str(stuart))\n",
    "    else:\n",
    "        print(\"Draw\")"
   ]
  },
  {
   "cell_type": "markdown",
   "id": "e5b798fc",
   "metadata": {},
   "source": [
    "### Text Wrap"
   ]
  },
  {
   "cell_type": "code",
   "execution_count": null,
   "id": "841f67fe",
   "metadata": {},
   "outputs": [],
   "source": [
    "def wrap(string, max_width):\n",
    "    new_string = \"\"\n",
    "    for i in range(len(string)):\n",
    "        new_string = new_string + string[i]\n",
    "        if ((i+1) % max_width == 0):\n",
    "           new_string = new_string + \"\\n\" \n",
    "    return new_string"
   ]
  },
  {
   "cell_type": "markdown",
   "id": "58ecdacd",
   "metadata": {},
   "source": [
    "### Introduction to Sets"
   ]
  },
  {
   "cell_type": "code",
   "execution_count": null,
   "id": "93cba185",
   "metadata": {},
   "outputs": [],
   "source": [
    "def average(array):\n",
    "    summ = 0\n",
    "    s = set(array)\n",
    "    for i in set(array):\n",
    "        summ = summ + i\n",
    "    return summ/len(set(array))\n",
    "    # your code goes here"
   ]
  },
  {
   "cell_type": "markdown",
   "id": "c30c2ac0",
   "metadata": {},
   "source": [
    "### Symmetric Difference"
   ]
  },
  {
   "cell_type": "code",
   "execution_count": null,
   "id": "d97db754",
   "metadata": {},
   "outputs": [],
   "source": [
    "# Enter your code here. Read input from STDIN. Print output to STDOUT\n",
    "n = int(input())\n",
    "nlist = set(list(map(int, input().split())))\n",
    "m = int(input())\n",
    "mlist = set(list(map(int, input().split())))\n",
    "\n",
    "intersection = nlist.intersection(mlist)\n",
    "union = nlist.union(mlist)\n",
    "\n",
    "solution = list(union.difference(intersection))\n",
    "solution.sort()\n",
    "\n",
    "for s in solution:\n",
    "    print(s)"
   ]
  },
  {
   "cell_type": "markdown",
   "id": "372110ac",
   "metadata": {},
   "source": [
    "### No Idea!"
   ]
  },
  {
   "cell_type": "code",
   "execution_count": null,
   "id": "8b39ad81",
   "metadata": {},
   "outputs": [],
   "source": [
    "# Enter your code here. Read input from STDIN. Print output to STDOUT\n",
    "n, m = map(int, input().split())\n",
    "\n",
    "array = map(int, input().split())\n",
    "a = set(map(int, input().split()))\n",
    "b = set(map(int, input().split()))\n",
    "\n",
    "happiness = 0\n",
    "for number in array:\n",
    "    if number in a:\n",
    "        happiness = happiness + 1\n",
    "    elif number in b:\n",
    "        happiness = happiness - 1\n",
    "        \n",
    "print(happiness)\n"
   ]
  },
  {
   "cell_type": "markdown",
   "id": "3937f44e",
   "metadata": {},
   "source": [
    "### Set .add()"
   ]
  },
  {
   "cell_type": "code",
   "execution_count": null,
   "id": "6723caeb",
   "metadata": {},
   "outputs": [],
   "source": [
    "# Enter your code here. Read input from STDIN. Print output to STDOUT\n",
    "\n",
    "s = set()\n",
    "n = int(input())\n",
    "\n",
    "for i in range(n):\n",
    "    country = input()\n",
    "    s.add(country)\n",
    "\n",
    "print(len(s))"
   ]
  },
  {
   "cell_type": "markdown",
   "id": "db1cf517",
   "metadata": {},
   "source": [
    "### Set .discard(), .remove() & .pop()"
   ]
  },
  {
   "cell_type": "code",
   "execution_count": null,
   "id": "95966609",
   "metadata": {},
   "outputs": [],
   "source": [
    "# Enter your code here. Read input from STDIN. Print output to STDOUT\n",
    "n = int(input())\n",
    "s = list(map(int, input().split()))\n",
    "s.reverse()\n",
    "s = set(s)\n",
    "commands = int(input())\n",
    "\n",
    "for i in range(commands):\n",
    "    c = input().split()\n",
    "    if c[0] == \"pop\" and len(s) > 0:\n",
    "        s.pop()\n",
    "    elif c[0] == \"remove\" and int(c[1]) in s:\n",
    "        s.remove(int(c[1]))\n",
    "    elif c[0] == \"discard\":\n",
    "        s.discard(int(c[1]))"
   ]
  },
  {
   "cell_type": "markdown",
   "id": "a3170b50",
   "metadata": {},
   "source": [
    "### Set .union() Operation"
   ]
  },
  {
   "cell_type": "code",
   "execution_count": null,
   "id": "7f35fb2a",
   "metadata": {},
   "outputs": [],
   "source": [
    "# Enter your code here. Read input from STDIN. Print output to STDOUT\n",
    "english = int(input())\n",
    "english_roll_numbers = set(map(int,input().split()))\n",
    "french = int(input())\n",
    "french_roll_numbers = set(map(int,input().split()))\n",
    "\n",
    "print(len(english_roll_numbers.union(french_roll_numbers)))"
   ]
  },
  {
   "cell_type": "markdown",
   "id": "60ca78bb",
   "metadata": {},
   "source": [
    "### Set .intersection() Operation"
   ]
  },
  {
   "cell_type": "code",
   "execution_count": null,
   "id": "1caadff3",
   "metadata": {},
   "outputs": [],
   "source": [
    "# Enter your code here. Read input from STDIN. Print output to STDOUT\n",
    "english =int(input())\n",
    "english_roll_numbers = set(map(int,input().split()))\n",
    "french =int(input())\n",
    "french_roll_numbers = set(map(int,input().split()))\n",
    "\n",
    "print(len(english_roll_numbers.intersection(french_roll_numbers)))"
   ]
  },
  {
   "cell_type": "markdown",
   "id": "d14c5527",
   "metadata": {},
   "source": [
    "### Set .difference() Operation"
   ]
  },
  {
   "cell_type": "code",
   "execution_count": null,
   "id": "cebdc46a",
   "metadata": {},
   "outputs": [],
   "source": [
    "# Enter your code here. Read input from STDIN. Print output to STDOUT\n",
    "english =int(input())\n",
    "english_roll_numbers = set(map(int,input().split()))\n",
    "french =int(input())\n",
    "french_roll_numbers = set(map(int,input().split()))\n",
    "\n",
    "print(len(english_roll_numbers.difference(french_roll_numbers)))"
   ]
  },
  {
   "cell_type": "markdown",
   "id": "892bf627",
   "metadata": {},
   "source": [
    "### Set .symmetric_difference() Operation"
   ]
  },
  {
   "cell_type": "code",
   "execution_count": null,
   "id": "a79d5708",
   "metadata": {},
   "outputs": [],
   "source": [
    "# Enter your code here. Read input from STDIN. Print output to STDOUT\n",
    "english =int(input())\n",
    "english_roll_numbers = set(map(int,input().split()))\n",
    "french =int(input())\n",
    "french_roll_numbers = set(map(int,input().split()))\n",
    "\n",
    "print(len(english_roll_numbers.symmetric_difference(french_roll_numbers)))"
   ]
  },
  {
   "cell_type": "markdown",
   "id": "812630de",
   "metadata": {},
   "source": [
    "### Set Mutations"
   ]
  },
  {
   "cell_type": "code",
   "execution_count": null,
   "id": "067e5e5d",
   "metadata": {},
   "outputs": [],
   "source": [
    "# Enter your code here. Read input from STDIN. Print output to STDOUT\n",
    "n = int(input())\n",
    "s = set(map(int, input().split()))\n",
    "commands_no = int(input())\n",
    "\n",
    "for i in range(commands_no):\n",
    "    command = input().split()\n",
    "    s2 = set(map(int, input().split()))\n",
    "    \n",
    "    if command[0] == \"intersection_update\":\n",
    "        s.intersection_update(s2)\n",
    "    elif command[0] == \"difference_update\":\n",
    "        s.difference_update(s2)\n",
    "    elif command[0] == \"update\":\n",
    "        s.update(s2)\n",
    "    elif command[0] == \"symmetric_difference_update\":\n",
    "        s.symmetric_difference_update(s2)\n",
    "\n",
    "print(sum(s))"
   ]
  },
  {
   "cell_type": "markdown",
   "id": "1e9d4216",
   "metadata": {},
   "source": [
    "### Check Subset"
   ]
  },
  {
   "cell_type": "code",
   "execution_count": null,
   "id": "8934fcca",
   "metadata": {},
   "outputs": [],
   "source": [
    "# Enter your code here. Read input from STDIN. Print output to STDOUT\n",
    "test_cases = int(input())\n",
    "\n",
    "for test in range(test_cases):\n",
    "    a_no_of_elements = int(input())\n",
    "    a = set(map(int, input().split()))\n",
    "    b_no_of_elements = int(input())\n",
    "    b = set(map(int, input().split()))\n",
    "    \n",
    "    if a.intersection(b) == a:\n",
    "        print(True)\n",
    "    else:\n",
    "        print(False)"
   ]
  },
  {
   "cell_type": "markdown",
   "id": "2105c4c0",
   "metadata": {},
   "source": [
    "### Check Strict Superset"
   ]
  },
  {
   "cell_type": "code",
   "execution_count": null,
   "id": "6a3b8e9b",
   "metadata": {},
   "outputs": [],
   "source": [
    "# Enter your code here. Read input from STDIN. Print output to STDOUT\n",
    "a = set(map(int, input().split()))\n",
    "n = int(input())\n",
    "\n",
    "superset = True\n",
    "for i in range(n):\n",
    "    b = set(map(int, input().split()))\n",
    "    if a.intersection(b) != b or len(a) <= len(b):\n",
    "        superset = False\n",
    "        break\n",
    "        \n",
    "print(superset)"
   ]
  },
  {
   "cell_type": "markdown",
   "id": "efa827a9",
   "metadata": {},
   "source": [
    "### The Captain's Room"
   ]
  },
  {
   "cell_type": "code",
   "execution_count": null,
   "id": "9b4ba1b5",
   "metadata": {},
   "outputs": [],
   "source": [
    "k = int(input())\n",
    "l = list(map(int, input().split()))\n",
    "s = set(l)\n",
    "\n",
    "\n",
    "print(abs((sum(l) - sum(s) * k)//(k-1)))"
   ]
  },
  {
   "cell_type": "markdown",
   "id": "f62d0748",
   "metadata": {},
   "source": [
    "### Designer Door Mat"
   ]
  },
  {
   "cell_type": "code",
   "execution_count": null,
   "id": "fad85aea",
   "metadata": {},
   "outputs": [],
   "source": [
    "array = input().split(\" \")\n",
    "n = int(array[0])\n",
    "m = n*3\n",
    "\n",
    "design = \".|.\"\n",
    "half = n // 2\n",
    "\n",
    "for i in range(1, half+1):\n",
    "    j = i*2-1\n",
    "    print((design*j).center(m, \"-\"))\n",
    "    \n",
    "print(\"WELCOME\".center(m, \"-\"))\n",
    "\n",
    "for i in range(half, 0, -1):\n",
    "    j = i*2-1\n",
    "    print((design*j).center(m, \"-\"))"
   ]
  },
  {
   "cell_type": "markdown",
   "id": "1b2b6a02",
   "metadata": {},
   "source": [
    "### Text Alignment"
   ]
  },
  {
   "cell_type": "code",
   "execution_count": null,
   "id": "66798bca",
   "metadata": {},
   "outputs": [],
   "source": [
    "# Enter your code here. Read input from STDIN. Print output to STDOUT\n",
    "width = int(input())\n",
    "\n",
    "for i in range(1, 2*width,2):\n",
    "    s=(\"H\"*i).center(width*2)\n",
    "    print(s)\n",
    "\n",
    "for i in range(width+1):\n",
    "    s1=(\"H\"*width).center(2*width)\n",
    "    s2=(\"H\"*width).center(2*width)\n",
    "    blank = (' ')*(width*2)\n",
    "    print(s1 + blank + s2)\n",
    "\n",
    "for i in range(width//2+1):\n",
    "    s=(\"H\"*((width*2)+(width*3))).center(6*width)\n",
    "    print(s)\n",
    " \n",
    "for i in range(width+1):\n",
    "    s1=(\"H\"*width).center(2*width)\n",
    "    s2=(\"H\"*width).center(2*width)\n",
    "    blank = (' ')*(width*2)\n",
    "    print(s1 + blank + s2)\n",
    "    \n",
    "for i in range(2*width-1,0,-2):\n",
    "    s=(\"H\"*i).center(width*2)\n",
    "    blank = (' ')*(width*4)\n",
    "    print(blank + s)"
   ]
  },
  {
   "cell_type": "markdown",
   "id": "8f09f199",
   "metadata": {},
   "source": [
    "### String Formatting"
   ]
  },
  {
   "cell_type": "code",
   "execution_count": null,
   "id": "a0a85341",
   "metadata": {},
   "outputs": [],
   "source": [
    "def print_formatted(number):\n",
    "    # your code goes here\n",
    "    bin_max = bin(number)[2:]\n",
    "    length = len(str(bin_max))\n",
    "    \n",
    "    for i in range(1, number+1):\n",
    "        decimal = str(i)\n",
    "        octal = oct(i)[2:]\n",
    "        hexadecimal = hex(i)[2:].upper()\n",
    "        binary = bin(i)[2:]\n",
    "        print(decimal.rjust(length) + \" \" + octal.rjust(length) + \" \" + hexadecimal.rjust(length) + \" \" + binary.rjust(length))"
   ]
  },
  {
   "cell_type": "markdown",
   "id": "597de1f7",
   "metadata": {},
   "source": [
    "### Alphabet Rangoli"
   ]
  },
  {
   "cell_type": "code",
   "execution_count": null,
   "id": "69ab95d9",
   "metadata": {},
   "outputs": [],
   "source": [
    "def print_rangoli(size):\n",
    "    # your code goes here\n",
    "    alphabet = ['a', 'b', 'c', 'd', 'e', 'f', 'g', 'h', 'i', 'j', 'k', 'l', 'm', 'n', 'o', 'p', 'q', 'r', 's', 't', 'u', 'v', 'w', 'x', 'y', 'z']\n",
    "    alphabet_needed = alphabet[0:size]\n",
    "    horizontal_size = (size + size -1)*2 -1\n",
    "    \n",
    "    for i in range(1, size+1):\n",
    "        a = []\n",
    "        for j in range(i, 0, -1):\n",
    "            if j != i:\n",
    "                a.insert(0, alphabet_needed[-j])\n",
    "            a.append(alphabet_needed[-j])\n",
    "        print(\"-\".join(a).center(horizontal_size, '-'))\n",
    "        \n",
    "    for i in range(size-1, 0, -1):\n",
    "        a = []\n",
    "        for j in range(i, 0, -1):\n",
    "            if j != i:\n",
    "                a.insert(0, alphabet_needed[-j])\n",
    "            a.append(alphabet_needed[-j])\n",
    "        print(\"-\".join(a).center(horizontal_size, '-'))"
   ]
  },
  {
   "cell_type": "markdown",
   "id": "7d04dc32",
   "metadata": {},
   "source": [
    "### collections.Counter()"
   ]
  },
  {
   "cell_type": "code",
   "execution_count": null,
   "id": "265c538a",
   "metadata": {},
   "outputs": [],
   "source": [
    "# Enter your code here. Read input from STDIN. Print output to STDOUT\n",
    "n = int(input())\n",
    "sizes = list(map(int, input().split()))\n",
    "customers = int(input())\n",
    "\n",
    "earnings = 0\n",
    "for i in range(customers):\n",
    "    a = input().split()\n",
    "    size = int(a[0])\n",
    "    price = int(a[1])\n",
    "    \n",
    "    if size in sizes:\n",
    "        earnings = earnings + price\n",
    "        sizes.remove(size)\n",
    "\n",
    "print(earnings)"
   ]
  },
  {
   "cell_type": "markdown",
   "id": "65094bf1",
   "metadata": {},
   "source": [
    "### Calendar Module"
   ]
  },
  {
   "cell_type": "code",
   "execution_count": null,
   "id": "67a58711",
   "metadata": {},
   "outputs": [],
   "source": [
    "# Enter your code here. Read input from STDIN. Print output to STDOUT\n",
    "import calendar\n",
    "import datetime\n",
    "\n",
    "a = input().split()\n",
    "year = int(a[2])\n",
    "month = int(a[0])\n",
    "day = int(a[1])\n",
    "date = datetime.date(year,month,day)\n",
    "\n",
    "\n",
    "print(calendar.day_name[date.weekday()].upper())"
   ]
  },
  {
   "cell_type": "markdown",
   "id": "88f05a64",
   "metadata": {},
   "source": [
    "### Exceptions"
   ]
  },
  {
   "cell_type": "code",
   "execution_count": null,
   "id": "1c991685",
   "metadata": {},
   "outputs": [],
   "source": [
    "# Enter your code here. Read input from STDIN. Print output to STDOUT\n",
    "n = int(input())\n",
    "\n",
    "for i in range(n):\n",
    "    array = input().split()\n",
    "    a = array[0]\n",
    "    b = array[1]\n",
    "    try:\n",
    "        print(int(a)//int(b))\n",
    "    except ZeroDivisionError as e:\n",
    "        print (\"Error Code: \"+str(e))\n",
    "    except ValueError as e:\n",
    "        print (\"Error Code: \"+str(e))"
   ]
  },
  {
   "cell_type": "markdown",
   "id": "636944a6",
   "metadata": {},
   "source": [
    "### Zipped!"
   ]
  },
  {
   "cell_type": "code",
   "execution_count": null,
   "id": "ec8dd50a",
   "metadata": {},
   "outputs": [],
   "source": [
    "# Enter your code here. Read input from STDIN. Print output to STDOUT\n",
    "a = input().split()\n",
    "n = int(a[0])\n",
    "x = int(a[1])\n",
    "\n",
    "marks_list = []\n",
    "for i in range(x):\n",
    "    marks =list(map(float, input().split()))\n",
    "    marks_list.append(marks)\n",
    "\n",
    "for z in zip(*marks_list):\n",
    "    print(sum(z)/len(z))"
   ]
  },
  {
   "cell_type": "markdown",
   "id": "97d4cc84",
   "metadata": {},
   "source": [
    "### Athlete Sort"
   ]
  },
  {
   "cell_type": "code",
   "execution_count": null,
   "id": "6eddc0ee",
   "metadata": {},
   "outputs": [],
   "source": [
    "import math\n",
    "import os\n",
    "import random\n",
    "import re\n",
    "import sys\n",
    "from operator import itemgetter\n",
    "\n",
    "\n",
    "if __name__ == '__main__':\n",
    "    nm = input().split()\n",
    "\n",
    "    n = int(nm[0])\n",
    "\n",
    "    m = int(nm[1])\n",
    "\n",
    "    arr = []\n",
    "\n",
    "    for _ in range(n):\n",
    "        arr.append(list(map(int, input().rstrip().split())))\n",
    "\n",
    "    k = int(input())\n",
    "\n",
    "    for l in sorted(arr, key=itemgetter(k)):\n",
    "        s = \" \".join(list(map(str, l)))\n",
    "        print(s)"
   ]
  },
  {
   "cell_type": "markdown",
   "id": "9a4b671b",
   "metadata": {},
   "source": [
    "### ginortS"
   ]
  },
  {
   "cell_type": "code",
   "execution_count": null,
   "id": "951e5150",
   "metadata": {},
   "outputs": [],
   "source": [
    "# Enter your code here. Read input from STDIN. Print output to STDOUT\n",
    "def func(e):\n",
    "  return len(e)\n",
    "\n",
    "string = input()\n",
    "\n",
    "upper = []\n",
    "lower = []\n",
    "odd_digit = []\n",
    "even_digit = []\n",
    "\n",
    "for s in string:\n",
    "    if s.isupper():\n",
    "        upper.append(s)\n",
    "    elif s.islower():\n",
    "        lower.append(s)\n",
    "    elif int(s) % 2 == 0:\n",
    "        even_digit.append(s)\n",
    "    else:\n",
    "        odd_digit.append(s)\n",
    "\n",
    "upper.sort()\n",
    "lower.sort()\n",
    "odd_digit.sort()\n",
    "even_digit.sort()\n",
    "upper_string = \"\".join(upper)\n",
    "lower_string = \"\".join(lower)\n",
    "odds = \"\".join(odd_digit)\n",
    "evens = \"\".join(even_digit)\n",
    "\n",
    "print(lower_string+upper_string+odds+evens)"
   ]
  },
  {
   "cell_type": "markdown",
   "id": "e5598086",
   "metadata": {},
   "source": [
    "### Map and Lambda Function"
   ]
  },
  {
   "cell_type": "code",
   "execution_count": null,
   "id": "27e75f9d",
   "metadata": {},
   "outputs": [],
   "source": [
    "cube = lambda x: x*x*x \n",
    "\n",
    "def fibonacci(n):\n",
    "    if n == 0:\n",
    "        return []\n",
    "    elif n == 1:\n",
    "        return [0]\n",
    "    else:\n",
    "        fib = [0,1]\n",
    "        while len(fib) < n:\n",
    "            f = fib[-2]\n",
    "            s = fib[-1]\n",
    "            fib.append(f+s)\n",
    "        return fib "
   ]
  },
  {
   "cell_type": "markdown",
   "id": "e08f2166",
   "metadata": {},
   "source": [
    "### XML 1 - Find the Score"
   ]
  },
  {
   "cell_type": "code",
   "execution_count": null,
   "id": "e4969655",
   "metadata": {},
   "outputs": [],
   "source": [
    "def get_attr_number(node):\n",
    "    attribs = len(node.attrib)\n",
    "    for element in node:\n",
    "        attribs += len(element.attrib)\n",
    "        if len(element) > 0:\n",
    "            for e in element:\n",
    "                attribs += len(e.attrib)\n",
    "    return attribs\n",
    "    # your code goes here"
   ]
  },
  {
   "cell_type": "markdown",
   "id": "d921216b",
   "metadata": {},
   "source": [
    "### XML2 - Find the Maximum Depth"
   ]
  },
  {
   "cell_type": "code",
   "execution_count": null,
   "id": "b2ab55e9",
   "metadata": {},
   "outputs": [],
   "source": [
    "maxdepth = 0\n",
    "maxlevel = 0\n",
    "def depth(elem, level):\n",
    "    global maxdepth\n",
    "    global maxlevel\n",
    "    # your code goes here\n",
    "    if maxlevel > level and not (level == -1 and len(elem) == 0):\n",
    "        maxdepth += 1\n",
    "        maxlevel -= 1\n",
    "    for e in elem:\n",
    "        if len(e) > 0:\n",
    "            depth(e, level-1) "
   ]
  },
  {
   "cell_type": "markdown",
   "id": "7a0aa453",
   "metadata": {},
   "source": [
    "### Standardize Mobile Number Using Decorators"
   ]
  },
  {
   "cell_type": "code",
   "execution_count": null,
   "id": "55b85f62",
   "metadata": {},
   "outputs": [],
   "source": [
    "def wrapper(f):\n",
    "    def fun(l):\n",
    "        newl = []\n",
    "        for tel in l:\n",
    "            newl.append('+91' + ' ' + tel[-10:-5] + ' ' + tel[-5:])\n",
    "        return f(newl)\n",
    "        # complete the function\n",
    "    return fun"
   ]
  },
  {
   "cell_type": "markdown",
   "id": "8ca7db0c",
   "metadata": {},
   "source": [
    "### Decorators 2 - Name Directory"
   ]
  },
  {
   "cell_type": "code",
   "execution_count": null,
   "id": "abd15c05",
   "metadata": {},
   "outputs": [],
   "source": [
    "def person_lister(f):\n",
    "    def inner(people):\n",
    "        # complete the function\n",
    "            for p in people:\n",
    "                p[2] = int(p[2])\n",
    "            people.sort(key=operator.itemgetter(2))\n",
    "            return [f(p) for p in people]\n",
    "    return inner"
   ]
  },
  {
   "cell_type": "markdown",
   "id": "ed1826f7",
   "metadata": {},
   "source": [
    "### Arrays"
   ]
  },
  {
   "cell_type": "code",
   "execution_count": null,
   "id": "9a096c09",
   "metadata": {},
   "outputs": [],
   "source": [
    "def arrays(arr):\n",
    "    fl = lambda t: float(t)\n",
    "    floats = numpy.array([fl(i) for i in arr])\n",
    "    \n",
    "    return numpy.flip(floats)"
   ]
  },
  {
   "cell_type": "markdown",
   "id": "e4935a74",
   "metadata": {},
   "source": [
    "### Shape and Reshape"
   ]
  },
  {
   "cell_type": "code",
   "execution_count": null,
   "id": "234563b0",
   "metadata": {},
   "outputs": [],
   "source": [
    "# Enter your code here. Read input from STDIN. Print output to STDOUT\n",
    "import numpy\n",
    "\n",
    "arr = numpy.array(input().strip().split(' '))\n",
    "\n",
    "toint = lambda x: int(x)\n",
    "\n",
    "print(numpy.reshape([toint(i) for i in arr], (3,3)))"
   ]
  },
  {
   "cell_type": "markdown",
   "id": "82de2d12",
   "metadata": {},
   "source": [
    "### Merge the Tools!"
   ]
  },
  {
   "cell_type": "code",
   "execution_count": null,
   "id": "7206551f",
   "metadata": {},
   "outputs": [],
   "source": [
    "def merge_the_tools(string, k):\n",
    "    # your code goes here\n",
    "\n",
    "    for i in range(0,len(string)//k):\n",
    "        substring = \"\".join(set(string[(i*k):(i*k+k)]))      \n",
    "        print(substring)"
   ]
  },
  {
   "cell_type": "markdown",
   "id": "eb0d8bbf",
   "metadata": {},
   "source": [
    "### Time Delta"
   ]
  },
  {
   "cell_type": "code",
   "execution_count": null,
   "id": "db7a5153",
   "metadata": {},
   "outputs": [],
   "source": [
    "#!/bin/python3\n",
    "\n",
    "import math\n",
    "import os\n",
    "import random\n",
    "import re\n",
    "import sys\n",
    "from datetime import datetime\n",
    "\n",
    "# Complete the time_delta function below.\n",
    "def time_delta(t1, t2):\n",
    "    t1 = datetime.strptime(t1, \"%a %d %b %Y %H:%M:%S %z\")\n",
    "    t2 = datetime.strptime(t2, \"%a %d %b %Y %H:%M:%S %z\")\n",
    "    return str(int(abs((t1 - t2).total_seconds())))\n",
    "\n",
    "if __name__ == '__main__':\n",
    "    fptr = open(os.environ['OUTPUT_PATH'], 'w')\n",
    "\n",
    "    t = int(input())\n",
    "\n",
    "    for t_itr in range(t):\n",
    "        t1 = input()\n",
    "\n",
    "        t2 = input()\n",
    "\n",
    "        delta = time_delta(t1, t2)\n",
    "\n",
    "        fptr.write(delta + '\\n')\n",
    "\n",
    "    fptr.close()\n"
   ]
  },
  {
   "cell_type": "markdown",
   "id": "5ad42e9b",
   "metadata": {},
   "source": [
    "### Collections.namedtuple()"
   ]
  },
  {
   "cell_type": "code",
   "execution_count": null,
   "id": "6280e2aa",
   "metadata": {},
   "outputs": [],
   "source": [
    "# Enter your code here. Read input from STDIN. Print output to STDOUT\n",
    "from collections import namedtuple\n",
    "\n",
    "n= int(input())\n",
    "Student = namedtuple(\"Student\", input().split())\n",
    "students = []\n",
    "for stud in range(n):\n",
    "    students.append(Student(*input().split()))\n",
    "\n",
    "sumstud = 0\n",
    "sumstud = [sumstud := sumstud + int(x.MARKS) for x in students]\n",
    "\n",
    "print(sumstud[-1]/len(students))"
   ]
  },
  {
   "cell_type": "markdown",
   "id": "c7e20af6",
   "metadata": {},
   "source": [
    "### Collections.OrderedDict()"
   ]
  },
  {
   "cell_type": "code",
   "execution_count": null,
   "id": "8de067d1",
   "metadata": {},
   "outputs": [],
   "source": [
    "# Enter your code here. Read input from STDIN. Print output to STDOUT\n",
    "from collections import OrderedDict\n",
    "\n",
    "ordered_dictionary = OrderedDict()\n",
    "n = int(input())\n",
    "for i in range(n):\n",
    "    a = (input().rsplit(\" \", 1))\n",
    "    item = a[0]\n",
    "    price = int(a[1])\n",
    "    if item in ordered_dictionary:  \n",
    "        ordered_dictionary[item] += price\n",
    "    else:\n",
    "        ordered_dictionary[item] = price \n",
    "    \n",
    "for i in ordered_dictionary:   \n",
    "    print(i + \" \" + str(ordered_dictionary[i]))"
   ]
  },
  {
   "cell_type": "markdown",
   "id": "9418b81f",
   "metadata": {},
   "source": [
    "### Word Order"
   ]
  },
  {
   "cell_type": "code",
   "execution_count": null,
   "id": "418a311e",
   "metadata": {},
   "outputs": [],
   "source": [
    "# Enter your code here. Read input from STDIN. Print output to STDOUT\n",
    "n = int(input())\n",
    "d = {}\n",
    "for i in range(n):\n",
    "    word = input()\n",
    "    if word in d:\n",
    "        d[word] += 1\n",
    "    else:\n",
    "        d[word] = 1\n",
    "    \n",
    "print(len(d))\n",
    "s = \"\"\n",
    "for elem in d:\n",
    "    s += str(d[elem]) + \" \"\n",
    "    \n",
    "print(s.strip())"
   ]
  },
  {
   "cell_type": "markdown",
   "id": "fbceccb5",
   "metadata": {},
   "source": [
    "### Collections.deque()"
   ]
  },
  {
   "cell_type": "code",
   "execution_count": null,
   "id": "ad861825",
   "metadata": {},
   "outputs": [],
   "source": [
    "# Enter your code here. Read input from STDIN. Print output to STDOUT\n",
    "from collections import deque\n",
    "\n",
    "d = deque()\n",
    "\n",
    "n = int(input())\n",
    "for i in range(n):\n",
    "    command = input().split()\n",
    "    if command[0] == \"append\":\n",
    "        d.append(int(command[1]))\n",
    "    elif command[0] == \"pop\":\n",
    "        d.pop()\n",
    "    elif command[0] == \"popleft\":\n",
    "        d.popleft()\n",
    "    elif command[0] == \"appendleft\":\n",
    "        d.appendleft(int(command[1]))\n",
    "        \n",
    "print(\" \".join(map(str, d)))"
   ]
  },
  {
   "cell_type": "markdown",
   "id": "22b27190",
   "metadata": {},
   "source": [
    "### Piling Up!"
   ]
  },
  {
   "cell_type": "code",
   "execution_count": null,
   "id": "2e44af91",
   "metadata": {},
   "outputs": [],
   "source": [
    "# Enter your code here. Read input from STDIN. Print output to STDOUT\n",
    "from collections import deque\n",
    "t = int(input())\n",
    "\n",
    "for i in range(t):\n",
    "    n = int(input())\n",
    "    blocks = deque(map(int,input().split()))\n",
    "    \n",
    "    answer = \"Yes\"\n",
    "    for j in range(n//2):\n",
    "        l = blocks[0]\n",
    "        r = blocks[-1]\n",
    "        \n",
    "        if l < blocks[1] and r < blocks[-2]:\n",
    "            answer = \"No\"\n",
    "            break\n",
    "        \n",
    "        blocks.popleft()\n",
    "        blocks.pop()\n",
    "    \n",
    "    print(answer)"
   ]
  },
  {
   "cell_type": "markdown",
   "id": "20899726",
   "metadata": {},
   "source": [
    "### Company Logo"
   ]
  },
  {
   "cell_type": "code",
   "execution_count": null,
   "id": "d93b2719",
   "metadata": {},
   "outputs": [],
   "source": [
    "#!/bin/python3\n",
    "\n",
    "import math\n",
    "import os\n",
    "import random\n",
    "import re\n",
    "import sys\n",
    "\n",
    "\n",
    "\n",
    "if __name__ == '__main__':\n",
    "    s = sorted(input())\n",
    "    d = {}\n",
    "    \n",
    "    for c in s:\n",
    "        if c in d:\n",
    "            d[c] += 1\n",
    "        else:\n",
    "            d[c] = 1\n",
    "            \n",
    "    d2 = dict(sorted(d.items(), key=lambda item: item[1],reverse=True))\n",
    "   \n",
    "    j = 1\n",
    "    for i in d2:\n",
    "        print(i + \" \" + str(d2[i]))\n",
    "        j = j + 1\n",
    "        if j == 4:\n",
    "            break"
   ]
  },
  {
   "cell_type": "markdown",
   "id": "e375b8dd",
   "metadata": {},
   "source": [
    "### Iterables and Iterators"
   ]
  },
  {
   "cell_type": "code",
   "execution_count": null,
   "id": "654e815d",
   "metadata": {},
   "outputs": [],
   "source": []
  },
  {
   "cell_type": "markdown",
   "id": "f0122ff5",
   "metadata": {},
   "source": [
    "### DefaultDict Tutorial"
   ]
  },
  {
   "cell_type": "code",
   "execution_count": null,
   "id": "7439dba7",
   "metadata": {},
   "outputs": [],
   "source": [
    "# Enter your code here. Read input from STDIN. Print output to STDOUT\n",
    "from collections import defaultdict\n",
    "\n",
    "arr = input().split()\n",
    "n = int(arr[0])\n",
    "m = int(arr[1])\n",
    "A_dict = defaultdict(list)\n",
    "\n",
    "for i in range(n):\n",
    "    A_dict[input()].append(str(i+1))\n",
    "\n",
    "for index in range(m):\n",
    "    inp = input()\n",
    "    if inp in A_dict:\n",
    "        print(\" \".join(A_dict[inp] or -1))\n",
    "    else:\n",
    "        print(-1)"
   ]
  },
  {
   "cell_type": "markdown",
   "id": "9135e5e0",
   "metadata": {},
   "source": [
    "### Transpose and Flatten"
   ]
  },
  {
   "cell_type": "code",
   "execution_count": null,
   "id": "b2fe163c",
   "metadata": {},
   "outputs": [],
   "source": [
    "import numpy\n",
    "\n",
    "arr = list(map(int, input().split()))\n",
    "n = arr[0]\n",
    "m = arr[0]\n",
    "\n",
    "lines = []\n",
    "for i in range(n):\n",
    "    lines.append(list(map(int, input().split())))\n",
    "    \n",
    "my_array = numpy.array(lines)\n",
    "print(numpy.transpose(my_array))\n",
    "my_array = numpy.array(lines)\n",
    "print(my_array.flatten())"
   ]
  },
  {
   "cell_type": "markdown",
   "id": "5c5e505b",
   "metadata": {},
   "source": [
    "### Concatenate"
   ]
  },
  {
   "cell_type": "code",
   "execution_count": null,
   "id": "2f7bba5e",
   "metadata": {},
   "outputs": [],
   "source": [
    "import numpy\n",
    "\n",
    "arr = list(map(int, input().split()))\n",
    "n = int(arr[0])\n",
    "m = int(arr[1])\n",
    "\n",
    "p1 = []\n",
    "p2 = []\n",
    "\n",
    "for i in range(n):\n",
    "    inp = list(map(int, input().split()))\n",
    "    p1.append(inp)\n",
    "\n",
    "for i in range(m):\n",
    "    inp = list(map(int, input().split()))\n",
    "    p2.append(inp)\n",
    "    \n",
    "my_p1 = numpy.array(p1)\n",
    "my_p2 = numpy.array(p2)\n",
    "\n",
    "print(numpy.concatenate((p1, p2)))\n"
   ]
  },
  {
   "cell_type": "markdown",
   "id": "284dfeee",
   "metadata": {},
   "source": [
    "### Zeros and Ones"
   ]
  },
  {
   "cell_type": "code",
   "execution_count": null,
   "id": "d5e589a3",
   "metadata": {},
   "outputs": [],
   "source": [
    "import numpy\n",
    "\n",
    "arr = tuple(map(int, input().split()))\n",
    "\n",
    "zero_array = numpy.zeros(arr, dtype = int)\n",
    "one_array = numpy.ones(arr, dtype = int)\n",
    "\n",
    "\n",
    "print(zero_array)\n",
    "print(one_array)"
   ]
  },
  {
   "cell_type": "markdown",
   "id": "765197f7",
   "metadata": {},
   "source": [
    "### Eye and Identity"
   ]
  },
  {
   "cell_type": "code",
   "execution_count": null,
   "id": "67fc4c58",
   "metadata": {},
   "outputs": [],
   "source": [
    "import numpy\n",
    "numpy.set_printoptions(legacy='1.13')\n",
    "\n",
    "arr = list(map(int, input().split()))\n",
    "print(numpy.eye(arr[0], arr[1]))"
   ]
  },
  {
   "cell_type": "markdown",
   "id": "2b0411f4",
   "metadata": {},
   "source": [
    "### Array Mathematics"
   ]
  },
  {
   "cell_type": "code",
   "execution_count": null,
   "id": "58bd9721",
   "metadata": {},
   "outputs": [],
   "source": [
    "import numpy\n",
    "\n",
    "arr = list(map(int, input().split()))\n",
    "\n",
    "arraysA = []\n",
    "arraysB = []\n",
    "for i in range(arr[0]):\n",
    "    arraysA.append(input().split())\n",
    "for i in range(arr[0]):\n",
    "    arraysB.append(input().split())    \n",
    "\n",
    "numpy_i = numpy.array(arraysA, int)\n",
    "numpy_inp = numpy.array(arraysB, int)\n",
    "print(numpy.add(numpy_i, numpy_inp))\n",
    "print(numpy.subtract(numpy_i, numpy_inp))\n",
    "print(numpy.multiply(numpy_i, numpy_inp))\n",
    "print(numpy.floor_divide(numpy_i, numpy_inp))\n",
    "print(numpy.mod(numpy_i, numpy_inp))\n",
    "print(numpy.power(numpy_i, numpy_inp))\n"
   ]
  },
  {
   "cell_type": "markdown",
   "id": "48849b40",
   "metadata": {},
   "source": [
    "### Floor, Ceil and Rint"
   ]
  },
  {
   "cell_type": "code",
   "execution_count": null,
   "id": "5990bc5b",
   "metadata": {},
   "outputs": [],
   "source": [
    "import numpy\n",
    "numpy.set_printoptions(legacy='1.13')\n",
    "\n",
    "a = numpy.array(list(map(float, input().split())), float)\n",
    "\n",
    "print(numpy.floor(a))\n",
    "print(numpy.ceil(a))\n",
    "print(numpy.rint(a))"
   ]
  },
  {
   "cell_type": "markdown",
   "id": "6a6d45f6",
   "metadata": {},
   "source": [
    "### Sum and Prod"
   ]
  },
  {
   "cell_type": "code",
   "execution_count": null,
   "id": "d5833fce",
   "metadata": {},
   "outputs": [],
   "source": [
    "import numpy\n",
    "\n",
    "arr = list(map(int, input().split()))\n",
    "\n",
    "numpyarray = []\n",
    "for i in range(arr[0]):\n",
    "    my_array = numpy.array(list(map(int,input().split())), int)\n",
    "    numpyarray.append(my_array)\n",
    "\n",
    "numsum = numpy.sum(numpyarray, axis = 0)\n",
    "print(numpy.prod(numsum))"
   ]
  },
  {
   "cell_type": "markdown",
   "id": "a2535d72",
   "metadata": {},
   "source": [
    "### Min and Max"
   ]
  },
  {
   "cell_type": "code",
   "execution_count": null,
   "id": "47119ce8",
   "metadata": {},
   "outputs": [],
   "source": [
    "import numpy\n",
    "\n",
    "arr = list(map(int, input().split()))\n",
    "\n",
    "numpyarray = []\n",
    "for i in range(arr[0]):\n",
    "    my_array = numpy.array(list(map(int,input().split())), int)\n",
    "    numpyarray.append(my_array)\n",
    "\n",
    "nummin = numpy.min(numpyarray, axis = 1)\n",
    "print(numpy.max(nummin))"
   ]
  },
  {
   "cell_type": "markdown",
   "id": "1f47d1eb",
   "metadata": {},
   "source": [
    "### Mean, Var, and Std"
   ]
  },
  {
   "cell_type": "code",
   "execution_count": null,
   "id": "e5e41b92",
   "metadata": {},
   "outputs": [],
   "source": [
    "import numpy\n",
    "\n",
    "arr = list(map(int, input().split()))\n",
    "\n",
    "numpyarray = []\n",
    "for i in range(arr[0]):\n",
    "    my_array = numpy.array(list(map(int,input().split())), float)\n",
    "    numpyarray.append(my_array)\n",
    "\n",
    "print(numpy.mean(numpyarray, axis = 1))\n",
    "print(numpy.var(numpyarray, axis = 0))\n",
    "print(round(numpy.std(numpyarray),11))"
   ]
  },
  {
   "cell_type": "markdown",
   "id": "13140193",
   "metadata": {},
   "source": [
    "### Dot and Cross"
   ]
  },
  {
   "cell_type": "code",
   "execution_count": null,
   "id": "923dba0b",
   "metadata": {},
   "outputs": [],
   "source": [
    "import numpy\n",
    "\n",
    "arr = list(map(int, input().split()))\n",
    "\n",
    "arrayA = []\n",
    "arrayB = []\n",
    "for i in range(arr[0]):\n",
    "    my_array = numpy.array(list(map(int,input().split())), int)\n",
    "    arrayA.append(my_array)\n",
    "\n",
    "for i in range(arr[0]):\n",
    "    my_array = numpy.array(list(map(int,input().split())), int)\n",
    "    arrayB.append(my_array)\n",
    "    \n",
    "print(numpy.dot(arrayA, arrayB))"
   ]
  },
  {
   "cell_type": "markdown",
   "id": "ed4642b3",
   "metadata": {},
   "source": [
    "### Inner and Outer"
   ]
  },
  {
   "cell_type": "code",
   "execution_count": null,
   "id": "b71c3128",
   "metadata": {},
   "outputs": [],
   "source": [
    "import numpy\n",
    "\n",
    "arrayA = numpy.array(list(map(int, input().split())), int)\n",
    "arrayB = numpy.array(list(map(int, input().split())), int)\n",
    "    \n",
    "print(numpy.inner(arrayA, arrayB))\n",
    "print(numpy.outer(arrayA, arrayB))"
   ]
  },
  {
   "cell_type": "markdown",
   "id": "e4ac4bbb",
   "metadata": {},
   "source": [
    "### Polynomials"
   ]
  },
  {
   "cell_type": "code",
   "execution_count": null,
   "id": "c05219d6",
   "metadata": {},
   "outputs": [],
   "source": [
    "import numpy\n",
    "\n",
    "p = numpy.array(list(map(float, input().split())),float)\n",
    "z = int(input())\n",
    "\n",
    "print(numpy.polyval(p, z))"
   ]
  },
  {
   "cell_type": "markdown",
   "id": "8f1ec85e",
   "metadata": {},
   "source": [
    "### Linear Algebra"
   ]
  },
  {
   "cell_type": "code",
   "execution_count": null,
   "id": "cc1c335a",
   "metadata": {},
   "outputs": [],
   "source": [
    "import numpy\n",
    "\n",
    "n = int(input())\n",
    "arrays = []\n",
    "\n",
    "for i in range(n):   \n",
    "    arrays.append(numpy.array(list(map(float,input().split())), float))\n",
    "\n",
    "print(round(numpy.linalg.det(numpy.array(arrays)),2))"
   ]
  },
  {
   "cell_type": "markdown",
   "id": "b53cb611",
   "metadata": {},
   "source": [
    "### Detect Floating Point Number"
   ]
  },
  {
   "cell_type": "code",
   "execution_count": null,
   "id": "e9ffec6e",
   "metadata": {},
   "outputs": [],
   "source": [
    "# Enter your code here. Read input from STDIN. Print output to STDOUT\n",
    "import re\n",
    "\n",
    "n = int(input())\n",
    "\n",
    "for i in range(n):\n",
    "    inp = input()\n",
    "    print(bool(re.match('[+-]{0,1}([0-9]*[.])[0-9]+$', inp)))"
   ]
  },
  {
   "cell_type": "markdown",
   "id": "03af100f",
   "metadata": {},
   "source": [
    "### Re.split()"
   ]
  },
  {
   "cell_type": "code",
   "execution_count": null,
   "id": "932028f8",
   "metadata": {},
   "outputs": [],
   "source": [
    "regex_pattern = r\"[.,]+\"\t# Do not delete 'r'."
   ]
  },
  {
   "cell_type": "markdown",
   "id": "c668aace",
   "metadata": {},
   "source": [
    "### Group(), Groups() & Groupdict()"
   ]
  },
  {
   "cell_type": "code",
   "execution_count": null,
   "id": "576a5252",
   "metadata": {},
   "outputs": [],
   "source": [
    "# Enter your code here. Read input from STDIN. Print output to STDOUT\n",
    "import re\n",
    "string = input()\n",
    "\n",
    "\n",
    "match = re.search(r\"([a-zA-Z0-9])\\1\", string)\n",
    "\n",
    "if match:\n",
    "    print(match.group()[0])\n",
    "else:\n",
    "    print(-1)"
   ]
  },
  {
   "cell_type": "markdown",
   "id": "56fbc742",
   "metadata": {},
   "source": [
    "### Re.findall() & Re.finditer()"
   ]
  },
  {
   "cell_type": "code",
   "execution_count": null,
   "id": "9df89321",
   "metadata": {},
   "outputs": [],
   "source": [
    "# Enter your code here. Read input from STDIN. Print output to STDOUT\n",
    "import re\n",
    "\n",
    "string = input()\n",
    "\n",
    "result = re.findall(r'(?<=[qwrtypsdfghjklzxcvbnmQWRTYPSDFGHJKLZXCVBNM])[aeiouAEIOU]{2,}(?=[qwrtypsdfghjklzxcvbnmQWRTYPSDFGHJKLZXCVBNM])', string)\n",
    "\n",
    "for r in result:\n",
    "    print(r)\n",
    "if result == []:\n",
    "    print(-1)"
   ]
  },
  {
   "cell_type": "markdown",
   "id": "5884a089",
   "metadata": {},
   "source": [
    "### Re.start() & Re.end()"
   ]
  },
  {
   "cell_type": "code",
   "execution_count": null,
   "id": "d9fcb301",
   "metadata": {},
   "outputs": [],
   "source": [
    "# Enter your code here. Read input from STDIN. Print output to STDOUT\n",
    "import re\n",
    "string =input()\n",
    "k = input()\n",
    "s = set()\n",
    "\n",
    "found = 1\n",
    "count = 0\n",
    "while found == 1:\n",
    "    m = re.search(k,string)\n",
    "    if m == None:\n",
    "        found = 0\n",
    "        break\n",
    "    s.add((m.start()+count,m.end()+count-1))\n",
    "    string = string[1:]\n",
    "    count += 1\n",
    "    if m == None:\n",
    "        found = 0\n",
    "        \n",
    "l = list(s)\n",
    "l.sort()\n",
    "for p in l:\n",
    "    print(p)\n",
    "    \n",
    "if l == []:\n",
    "    print((-1, -1))"
   ]
  },
  {
   "cell_type": "markdown",
   "id": "17104c20",
   "metadata": {},
   "source": [
    "### Regex Substitution"
   ]
  },
  {
   "cell_type": "code",
   "execution_count": null,
   "id": "351bd63f",
   "metadata": {},
   "outputs": [],
   "source": [
    "# Enter your code here. Read input from STDIN. Print output to STDOUT\n",
    "\n",
    "import re\n",
    "\n",
    "n = int(input())\n",
    "\n",
    "for i in range(n):\n",
    "    text = input()\n",
    "    text = re.sub(\"(?<= )(&&)(?= )\", \"and\", text)\n",
    "    text = re.sub(\"(?<= )\\|\\|(?= )\", \"or\", text)\n",
    "    print(text)"
   ]
  },
  {
   "cell_type": "markdown",
   "id": "5dd63e96",
   "metadata": {},
   "source": [
    "### Validating Roman Numerals"
   ]
  },
  {
   "cell_type": "code",
   "execution_count": null,
   "id": "c5ad7ee4",
   "metadata": {},
   "outputs": [],
   "source": [
    "regex_pattern = r\"M{0,3}(CM){0,1}C{0,3}D{0,3}(C{0,3})((XL|L){0,1})(X{0,3})C{0,1}((IV|V){0,1})I{0,3}X{0,3}$\"\t# Do not delete 'r'."
   ]
  },
  {
   "cell_type": "markdown",
   "id": "2b1ea12d",
   "metadata": {},
   "source": [
    "### Validating phone numbers"
   ]
  },
  {
   "cell_type": "code",
   "execution_count": null,
   "id": "e1f76dc9",
   "metadata": {},
   "outputs": [],
   "source": [
    "# Enter your code here. Read input from STDIN. Print output to STDOUT\n",
    "regex_pattern = r\"[789][0-9]{9}$\"    # Do not delete 'r'.\n",
    "\n",
    "import re\n",
    "\n",
    "n = int(input())\n",
    "for i in range(n):\n",
    "    b = bool(re.match(regex_pattern, input()))\n",
    "    if b == False:\n",
    "        print(\"NO\")\n",
    "    else:\n",
    "        print(\"YES\")"
   ]
  },
  {
   "cell_type": "markdown",
   "id": "6a43ed77",
   "metadata": {},
   "source": [
    "### Validating and Parsing Email Addresses"
   ]
  },
  {
   "cell_type": "code",
   "execution_count": null,
   "id": "0bb26c39",
   "metadata": {},
   "outputs": [],
   "source": [
    "# Enter your code here. Read input from STDIN. Print output to STDOUT\n",
    "import re\n",
    "import email.utils\n",
    "regex_pattern = r\"[a-zA-Z][a-zA-Z0-9\\.\\-\\_]+@[a-zA-Z]+\\.[a-zA-Z]{1,3}$\"  \n",
    "\n",
    "n = int(input())\n",
    "for i in range(n):\n",
    "    inp = input()\n",
    "    name = email.utils.parseaddr(inp)[0]\n",
    "    emailaddress = email.utils.parseaddr(inp)[1]\n",
    "    b = bool(re.match(regex_pattern,emailaddress))\n",
    "    if b == True:\n",
    "        print(inp)"
   ]
  },
  {
   "cell_type": "markdown",
   "id": "8f02a678",
   "metadata": {},
   "source": [
    "### Hex Color Code"
   ]
  },
  {
   "cell_type": "code",
   "execution_count": null,
   "id": "f121632e",
   "metadata": {},
   "outputs": [],
   "source": [
    "# Enter your code here. Read input from STDIN. Print output to STDOUT\n",
    "import re\n",
    "regex_pattern = r\"#[0-9ABCDEFabcdef]{3,6}(?=[,|;|')'])\"\n",
    "\n",
    "n = int(input())\n",
    "for i in range(n):\n",
    "    inp = input()\n",
    "    m = re.findall(regex_pattern, inp)\n",
    "    for r in m:\n",
    "        print(r)"
   ]
  },
  {
   "cell_type": "markdown",
   "id": "499d46e5",
   "metadata": {},
   "source": [
    "### Validating Credit Card Numbers"
   ]
  },
  {
   "cell_type": "code",
   "execution_count": null,
   "id": "f9691a9c",
   "metadata": {},
   "outputs": [],
   "source": [
    "# Enter your code here. Read input from STDIN. Print output to STDOUT\n",
    "wrong_regex_pattern = r\"[0\\-]{4,}|[3\\-]{4,}|[0\\-]{4,}|[4\\-]{4,}|[5\\-]{4,}|[6\\-]{4,}|[7\\-]{4,}|[8\\-]{4,}|[9\\-]{4,}\"\n",
    "regex_pattern = r\"[456][0-9]{3}(-?[0-9]{4}){3}$\"    # Do not delete 'r'.\n",
    "\n",
    "import re\n",
    "\n",
    "n = int(input())\n",
    "for i in range(n):\n",
    "    inp = input()\n",
    "    b = bool(re.match(regex_pattern, inp))\n",
    "    if b == False:\n",
    "        print(\"Invalid\")\n",
    "    else:\n",
    "        b2 = re.findall(wrong_regex_pattern, inp)\n",
    "        if b2 != []:\n",
    "            print(\"Invalid\")\n",
    "        else:\n",
    "            print(\"Valid\")  \n"
   ]
  },
  {
   "cell_type": "markdown",
   "id": "418bc755",
   "metadata": {},
   "source": [
    "### Validating UID"
   ]
  },
  {
   "cell_type": "code",
   "execution_count": null,
   "id": "3a61c8fc",
   "metadata": {},
   "outputs": [],
   "source": [
    "# Enter your code here. Read input from STDIN. Print output to STDOUT\n",
    "\n",
    "from collections import Counter\n",
    "import re\n",
    "\n",
    "regex_pattern = r\"[0-9a-zA-Z]+\"    # Do not delete 'r'.\n",
    "\n",
    "n = int(input())\n",
    "for i in range(n):\n",
    "    result = 'Valid'\n",
    "    string = input()\n",
    "\n",
    "    if len(string) > 10:\n",
    "        result = 'Invalid'\n",
    "\n",
    "    if (bool(re.match(regex_pattern, string)) == False):\n",
    "        result = 'Invalid'\n",
    "    \n",
    "    count = Counter(string)\n",
    "    for key, val in count.items():\n",
    "        if val > 1:\n",
    "            result = 'Invalid'\n",
    "            break\n",
    "        \n",
    "    if bool(re.search(r\"(.*[0-9].*){3,}\", string)) == False:\n",
    "        result = 'Invalid'\n",
    "        \n",
    "    if bool(re.search(r\"(.*[A-Z].*){2,}\", string)) == False:\n",
    "        result = 'Invalid'\n",
    "    \n",
    "\n",
    "    print(result)"
   ]
  },
  {
   "cell_type": "markdown",
   "id": "7e4f87aa",
   "metadata": {},
   "source": [
    "### Validating Postal Codes"
   ]
  },
  {
   "cell_type": "code",
   "execution_count": null,
   "id": "e1d1f521",
   "metadata": {},
   "outputs": [],
   "source": [
    "regex_integer_in_range = r\"[1-9][0-9]{5}$\"\t# Do not delete 'r'.\n",
    "regex_alternating_repetitive_digit_pair = r\"(\\d)(?=\\d\\1)\"\t# Do not delete 'r'."
   ]
  },
  {
   "cell_type": "markdown",
   "id": "178a6b57",
   "metadata": {},
   "source": [
    "### Matrix Script"
   ]
  },
  {
   "cell_type": "code",
   "execution_count": null,
   "id": "8873107d",
   "metadata": {},
   "outputs": [],
   "source": [
    "#!/bin/python3\n",
    "\n",
    "import math\n",
    "import os\n",
    "import random\n",
    "import re\n",
    "import sys\n",
    "\n",
    "\n",
    "\n",
    "\n",
    "first_multiple_input = input().rstrip().split()\n",
    "\n",
    "n = int(first_multiple_input[0])\n",
    "\n",
    "m = int(first_multiple_input[1])\n",
    "\n",
    "matrix = []\n",
    "\n",
    "for _ in range(n):\n",
    "    matrix_item = input()\n",
    "    matrix.append(matrix_item)\n",
    "\n",
    "decode = ''\n",
    "\n",
    "for j in range(m):\n",
    "    for i in range(n):\n",
    "        item = matrix[i][j]           \n",
    "        decode = decode + item\n",
    "            \n",
    "decode2 = re.sub(r\"(?<=[a-zA-Z])[ !@#$%&]{1,}(?=[a-zA-Z])\",' ',decode)\n",
    "print(decode2)\n"
   ]
  },
  {
   "cell_type": "markdown",
   "id": "743a27b5",
   "metadata": {},
   "source": [
    "### HTML Parser - Part 1"
   ]
  },
  {
   "cell_type": "code",
   "execution_count": null,
   "id": "29341e8b",
   "metadata": {},
   "outputs": [],
   "source": [
    "# Enter your code here. Read input from STDIN. Print output to STDOUT\n",
    "from html.parser import HTMLParser\n",
    "\n",
    "n = int(input())\n",
    "html = \"\"\n",
    "for i in range(n):\n",
    "    html = html + input()\n",
    "    \n",
    "class MyHTMLParser(HTMLParser):\n",
    "    def handle_starttag(self, tag, attrs):\n",
    "        print(\"Start :\", tag)\n",
    "        for attr in attrs:\n",
    "            print(\"->\", attr[0], \">\", attr[1])\n",
    "    def handle_endtag(self, tag):\n",
    "        print (\"End   :\", tag)\n",
    "    def handle_startendtag(self, tag, attrs):\n",
    "        print (\"Empty :\", tag)\n",
    "        for attr in attrs:\n",
    "            print(\"->\", attr[0], \">\", attr[1])\n",
    "\n",
    "# instantiate the parser and fed it some HTML\n",
    "parser = MyHTMLParser()\n",
    "parser.feed(html)"
   ]
  },
  {
   "cell_type": "markdown",
   "id": "377b8b35",
   "metadata": {},
   "source": [
    "### HTML Parser - Part 2"
   ]
  },
  {
   "cell_type": "code",
   "execution_count": null,
   "id": "fd54e3a2",
   "metadata": {},
   "outputs": [],
   "source": [
    "from html.parser import HTMLParser\n",
    "\n",
    "class MyHTMLParser(HTMLParser):\n",
    "    def handle_comment(self, data):\n",
    "        if not data == '\\n':\n",
    "            if '\\n' in data:\n",
    "                print(\">>> Multi-line Comment\")\n",
    "                print(data.strip())\n",
    "            else:\n",
    "                print(\">>> Single-line Comment\")\n",
    "                print(data.strip())\n",
    "    def handle_data(self, data):\n",
    "        if not data == '\\n':\n",
    "            print(\">>> Data\") \n",
    "            print(data)\n",
    "  \n",
    "  \n",
    "html = \"\"       \n",
    "for i in range(int(input())):\n",
    "    html += input().rstrip()\n",
    "    html += '\\n'\n",
    "    \n",
    "parser = MyHTMLParser()\n",
    "parser.feed(html)\n",
    "parser.close()"
   ]
  },
  {
   "cell_type": "markdown",
   "id": "fb6425aa",
   "metadata": {},
   "source": [
    "### Detect HTML Tags, Attributes and Attribute Values"
   ]
  },
  {
   "cell_type": "code",
   "execution_count": null,
   "id": "dd6d59bb",
   "metadata": {},
   "outputs": [],
   "source": [
    "# Enter your code here. Read input from STDIN. Print output to STDOUT\n",
    "from html.parser import HTMLParser\n",
    "\n",
    "class MyHTMLParser(HTMLParser):\n",
    "    def handle_starttag(self, tag, attrs):\n",
    "        print(tag)\n",
    "        for attr in attrs:\n",
    "            print(\"->\", attr[0], \">\", attr[1])\n",
    "    def handle_endtag(self, tag):\n",
    "        pass\n",
    "    def handle_startendtag(self, tag, attrs):\n",
    "        print (tag)\n",
    "        for attr in attrs:\n",
    "            print(\"->\", attr[0], \">\", attr[1])\n",
    "\n",
    "    def handle_comment(self, data):\n",
    "        pass\n",
    "    def handle_data(self, data):\n",
    "        pass\n",
    "  \n",
    "  \n",
    "html = \"\"       \n",
    "for i in range(int(input())):\n",
    "    html += input().rstrip()\n",
    "    html += '\\n'\n",
    "    \n",
    "parser = MyHTMLParser()\n",
    "parser.feed(html)\n",
    "parser.close()"
   ]
  },
  {
   "cell_type": "code",
   "execution_count": null,
   "id": "fb6cf26c",
   "metadata": {},
   "outputs": [],
   "source": []
  },
  {
   "cell_type": "code",
   "execution_count": null,
   "id": "464c6dfb",
   "metadata": {},
   "outputs": [],
   "source": []
  },
  {
   "cell_type": "code",
   "execution_count": null,
   "id": "49136266",
   "metadata": {},
   "outputs": [],
   "source": []
  },
  {
   "cell_type": "markdown",
   "id": "21739102",
   "metadata": {},
   "source": [
    "# Problem 2"
   ]
  },
  {
   "cell_type": "markdown",
   "id": "79d13421",
   "metadata": {},
   "source": [
    "### Birthday Cake Candles"
   ]
  },
  {
   "cell_type": "code",
   "execution_count": null,
   "id": "e11728ef",
   "metadata": {},
   "outputs": [],
   "source": [
    "#!/bin/python3\n",
    "\n",
    "import math\n",
    "import os\n",
    "import random\n",
    "import re\n",
    "import sys\n",
    "\n",
    "#\n",
    "# Complete the 'birthdayCakeCandles' function below.\n",
    "#\n",
    "# The function is expected to return an INTEGER.\n",
    "# The function accepts INTEGER_ARRAY candles as parameter.\n",
    "#\n",
    "\n",
    "def birthdayCakeCandles(candles):\n",
    "    maxcandle = candles[0]\n",
    "    for c in candles:\n",
    "        if maxcandle < c:\n",
    "            maxcandle = c\n",
    "    return(candles.count(maxcandle))\n",
    "\n",
    "if __name__ == '__main__':\n",
    "    fptr = open(os.environ['OUTPUT_PATH'], 'w')\n",
    "\n",
    "    candles_count = int(input().strip())\n",
    "\n",
    "    candles = list(map(int, input().rstrip().split()))\n",
    "\n",
    "    result = birthdayCakeCandles(candles)\n",
    "\n",
    "    fptr.write(str(result) + '\\n')\n",
    "\n",
    "    fptr.close()"
   ]
  },
  {
   "cell_type": "markdown",
   "id": "10523699",
   "metadata": {},
   "source": [
    "### Recursive Digit Sum"
   ]
  },
  {
   "cell_type": "code",
   "execution_count": null,
   "id": "3e25060a",
   "metadata": {},
   "outputs": [],
   "source": [
    "#!/bin/python3\n",
    "\n",
    "import math\n",
    "import os\n",
    "import random\n",
    "import re\n",
    "import sys\n",
    "\n",
    "#\n",
    "# Complete the 'superDigit' function below.\n",
    "#\n",
    "# The function is expected to return an INTEGER.\n",
    "# The function accepts following parameters:\n",
    "#  1. STRING n\n",
    "#  2. INTEGER k\n",
    "#\n",
    "\n",
    "def superDigit(n, k):\n",
    "    # Write your code here\n",
    "\n",
    "    if len(n)*k > 1:\n",
    "        s = 0\n",
    "        for d in n:\n",
    "            s += int(d)\n",
    "        s = s*k\n",
    "        return superDigit(str(s), 1)\n",
    "    elif len(n) == 1:\n",
    "        return int(n)\n",
    "    \n",
    "if __name__ == '__main__':\n",
    "    fptr = open(os.environ['OUTPUT_PATH'], 'w')\n",
    "\n",
    "    first_multiple_input = input().rstrip().split()\n",
    "\n",
    "    n = first_multiple_input[0]\n",
    "\n",
    "    k = int(first_multiple_input[1])\n",
    "\n",
    "    result = superDigit(n, k)\n",
    "\n",
    "    fptr.write(str(result) + '\\n')\n",
    "\n",
    "    fptr.close()"
   ]
  },
  {
   "cell_type": "markdown",
   "id": "f7d56963",
   "metadata": {},
   "source": [
    "### Number Line Jumps"
   ]
  },
  {
   "cell_type": "code",
   "execution_count": null,
   "id": "842fc603",
   "metadata": {},
   "outputs": [],
   "source": [
    "#!/bin/python3\n",
    "\n",
    "import math\n",
    "import os\n",
    "import random\n",
    "import re\n",
    "import sys\n",
    "\n",
    "#\n",
    "# Complete the 'kangaroo' function below.\n",
    "#\n",
    "# The function is expected to return a STRING.\n",
    "# The function accepts following parameters:\n",
    "#  1. INTEGER x1\n",
    "#  2. INTEGER v1\n",
    "#  3. INTEGER x2\n",
    "#  4. INTEGER v2\n",
    "#\n",
    "\n",
    "def kangaroo(x1, v1, x2, v2):\n",
    "    # Write your code here\n",
    "    result = False\n",
    "    while(result == False):  \n",
    "        if x1 == x2:\n",
    "            return 'YES'\n",
    "        else:\n",
    "            if v1 == v2:\n",
    "                break\n",
    "            elif (x1 > x2 and v1 > v2) or (x2 > x1 and v2 > v1):\n",
    "                break\n",
    "            else:\n",
    "                x1 += v1\n",
    "                x2 += v2\n",
    "    \n",
    "    return 'NO'\n",
    "\n",
    "if __name__ == '__main__':\n",
    "    fptr = open(os.environ['OUTPUT_PATH'], 'w')\n",
    "\n",
    "    first_multiple_input = input().rstrip().split()\n",
    "\n",
    "    x1 = int(first_multiple_input[0])\n",
    "\n",
    "    v1 = int(first_multiple_input[1])\n",
    "\n",
    "    x2 = int(first_multiple_input[2])\n",
    "\n",
    "    v2 = int(first_multiple_input[3])\n",
    "\n",
    "    result = kangaroo(x1, v1, x2, v2)\n",
    "\n",
    "    fptr.write(result + '\\n')\n",
    "\n",
    "    fptr.close()\n"
   ]
  },
  {
   "cell_type": "markdown",
   "id": "cbdf92d2",
   "metadata": {},
   "source": [
    "### Viral Advertising"
   ]
  },
  {
   "cell_type": "code",
   "execution_count": null,
   "id": "e46cd9f0",
   "metadata": {},
   "outputs": [],
   "source": [
    "#!/bin/python3\n",
    "\n",
    "import math\n",
    "import os\n",
    "import random\n",
    "import re\n",
    "import sys\n",
    "\n",
    "#\n",
    "# Complete the 'viralAdvertising' function below.\n",
    "#\n",
    "# The function is expected to return an INTEGER.\n",
    "# The function accepts INTEGER n as parameter.\n",
    "#\n",
    "\n",
    "def viralAdvertising(n):\n",
    "    total = 0\n",
    "    shared = 5\n",
    "    for i in range(n):\n",
    "        liked = shared // 2\n",
    "        shared = liked*3\n",
    "        total += liked\n",
    "    # Write your code here\n",
    "    return total\n",
    "\n",
    "if __name__ == '__main__':\n",
    "    fptr = open(os.environ['OUTPUT_PATH'], 'w')\n",
    "\n",
    "    n = int(input().strip())\n",
    "\n",
    "    result = viralAdvertising(n)\n",
    "\n",
    "    fptr.write(str(result) + '\\n')\n",
    "\n",
    "    fptr.close()\n"
   ]
  },
  {
   "cell_type": "markdown",
   "id": "41bc6d88",
   "metadata": {},
   "source": [
    "### Insertion Sort - Part 1"
   ]
  },
  {
   "cell_type": "code",
   "execution_count": null,
   "id": "ffaa86b1",
   "metadata": {},
   "outputs": [],
   "source": [
    "#!/bin/python3\n",
    "\n",
    "import math\n",
    "import os\n",
    "import random\n",
    "import re\n",
    "import sys\n",
    "\n",
    "#\n",
    "# Complete the 'insertionSort1' function below.\n",
    "#\n",
    "# The function accepts following parameters:\n",
    "#  1. INTEGER n\n",
    "#  2. INTEGER_ARRAY arr\n",
    "#\n",
    "\n",
    "def insertionSort1(n, arr):\n",
    "    # Write your code here\n",
    "    done = False\n",
    "    index = n - 1\n",
    "    removed = arr[index]\n",
    "    while done == False:   \n",
    "        if removed < arr[index-1] and index != 0:       \n",
    "            arr[index] = arr[index-1]\n",
    "            index -= 1\n",
    "            print(\" \".join(list(map(str,arr))))\n",
    "        else:\n",
    "            done = True\n",
    "    arr[index] = removed\n",
    "    print(\" \".join(list(map(str,arr)))) \n",
    "\n",
    "if __name__ == '__main__':\n",
    "    n = int(input().strip())\n",
    "\n",
    "    arr = list(map(int, input().rstrip().split()))\n",
    "\n",
    "    insertionSort1(n, arr)\n"
   ]
  },
  {
   "cell_type": "markdown",
   "id": "e98a6ac9",
   "metadata": {},
   "source": [
    "### Insertion Sort - Part 2"
   ]
  },
  {
   "cell_type": "code",
   "execution_count": null,
   "id": "87f5f3d0",
   "metadata": {},
   "outputs": [],
   "source": [
    "#!/bin/python3\n",
    "\n",
    "import math\n",
    "import os\n",
    "import random\n",
    "import re\n",
    "import sys\n",
    "\n",
    "#\n",
    "# Complete the 'insertionSort2' function below.\n",
    "#\n",
    "# The function accepts following parameters:\n",
    "#  1. INTEGER n\n",
    "#  2. INTEGER_ARRAY arr\n",
    "#\n",
    "\n",
    "def insertionSort1(n, arr, pos):\n",
    "    # Write your code here\n",
    "    done = False\n",
    "    index = pos\n",
    "    removed = arr[index]\n",
    "    while done == False:   \n",
    "        if removed < arr[index-1] and index != 0:       \n",
    "            arr[index] = arr[index-1]\n",
    "            index -= 1\n",
    "        else:\n",
    "            done = True\n",
    "    arr[index] = removed\n",
    "\n",
    "def insertionSort2(n, arr):\n",
    "    index = 0\n",
    "    for i in range(n-1):\n",
    "        if arr[index] > arr[index+1]:\n",
    "            insertionSort1(n, arr, index+1)\n",
    "        index += 1\n",
    "        print(\" \".join(list(map(str,arr)))) \n",
    "\n",
    "if __name__ == '__main__':\n",
    "    n = int(input().strip())\n",
    "\n",
    "    arr = list(map(int, input().rstrip().split()))\n",
    "\n",
    "    insertionSort2(n, arr)\n"
   ]
  }
 ],
 "metadata": {
  "kernelspec": {
   "display_name": "Python 3 (ipykernel)",
   "language": "python",
   "name": "python3"
  },
  "language_info": {
   "codemirror_mode": {
    "name": "ipython",
    "version": 3
   },
   "file_extension": ".py",
   "mimetype": "text/x-python",
   "name": "python",
   "nbconvert_exporter": "python",
   "pygments_lexer": "ipython3",
   "version": "3.10.7"
  }
 },
 "nbformat": 4,
 "nbformat_minor": 5
}
